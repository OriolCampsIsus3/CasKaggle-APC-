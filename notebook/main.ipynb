{
 "cells": [
  {
   "cell_type": "code",
   "execution_count": 1,
   "id": "23ec21ee",
   "metadata": {},
   "outputs": [],
   "source": [
    "import pandas as pd\n",
    "import numpy as np\n",
    "import seaborn as sns\n",
    "from collections import Counter\n",
    "import matplotlib.pyplot as plt\n",
    "import math\n",
    "from datetime import date"
   ]
  },
  {
   "cell_type": "code",
   "execution_count": 2,
   "id": "f540d9ec",
   "metadata": {},
   "outputs": [
    {
     "name": "stdout",
     "output_type": "stream",
     "text": [
      "(899164, 27)\n"
     ]
    }
   ],
   "source": [
    "dataset = pd.read_csv('SBAnational.csv', header ='infer', low_memory=False)\n",
    "print(dataset.shape)"
   ]
  },
  {
   "cell_type": "code",
   "execution_count": 3,
   "id": "d94e048a",
   "metadata": {},
   "outputs": [
    {
     "data": {
      "text/html": [
       "<div>\n",
       "<style scoped>\n",
       "    .dataframe tbody tr th:only-of-type {\n",
       "        vertical-align: middle;\n",
       "    }\n",
       "\n",
       "    .dataframe tbody tr th {\n",
       "        vertical-align: top;\n",
       "    }\n",
       "\n",
       "    .dataframe thead th {\n",
       "        text-align: right;\n",
       "    }\n",
       "</style>\n",
       "<table border=\"1\" class=\"dataframe\">\n",
       "  <thead>\n",
       "    <tr style=\"text-align: right;\">\n",
       "      <th></th>\n",
       "      <th>LoanNr_ChkDgt</th>\n",
       "      <th>Name</th>\n",
       "      <th>City</th>\n",
       "      <th>State</th>\n",
       "      <th>Zip</th>\n",
       "      <th>Bank</th>\n",
       "      <th>BankState</th>\n",
       "      <th>NAICS</th>\n",
       "      <th>ApprovalDate</th>\n",
       "      <th>ApprovalFY</th>\n",
       "      <th>...</th>\n",
       "      <th>RevLineCr</th>\n",
       "      <th>LowDoc</th>\n",
       "      <th>ChgOffDate</th>\n",
       "      <th>DisbursementDate</th>\n",
       "      <th>DisbursementGross</th>\n",
       "      <th>BalanceGross</th>\n",
       "      <th>MIS_Status</th>\n",
       "      <th>ChgOffPrinGr</th>\n",
       "      <th>GrAppv</th>\n",
       "      <th>SBA_Appv</th>\n",
       "    </tr>\n",
       "  </thead>\n",
       "  <tbody>\n",
       "    <tr>\n",
       "      <th>0</th>\n",
       "      <td>1000014003</td>\n",
       "      <td>ABC HOBBYCRAFT</td>\n",
       "      <td>EVANSVILLE</td>\n",
       "      <td>IN</td>\n",
       "      <td>47711</td>\n",
       "      <td>FIFTH THIRD BANK</td>\n",
       "      <td>OH</td>\n",
       "      <td>451120</td>\n",
       "      <td>28-Feb-97</td>\n",
       "      <td>1997</td>\n",
       "      <td>...</td>\n",
       "      <td>N</td>\n",
       "      <td>Y</td>\n",
       "      <td>NaN</td>\n",
       "      <td>28-Feb-99</td>\n",
       "      <td>$60,000.00</td>\n",
       "      <td>$0.00</td>\n",
       "      <td>P I F</td>\n",
       "      <td>$0.00</td>\n",
       "      <td>$60,000.00</td>\n",
       "      <td>$48,000.00</td>\n",
       "    </tr>\n",
       "    <tr>\n",
       "      <th>1</th>\n",
       "      <td>1000024006</td>\n",
       "      <td>LANDMARK BAR &amp; GRILLE (THE)</td>\n",
       "      <td>NEW PARIS</td>\n",
       "      <td>IN</td>\n",
       "      <td>46526</td>\n",
       "      <td>1ST SOURCE BANK</td>\n",
       "      <td>IN</td>\n",
       "      <td>722410</td>\n",
       "      <td>28-Feb-97</td>\n",
       "      <td>1997</td>\n",
       "      <td>...</td>\n",
       "      <td>N</td>\n",
       "      <td>Y</td>\n",
       "      <td>NaN</td>\n",
       "      <td>31-May-97</td>\n",
       "      <td>$40,000.00</td>\n",
       "      <td>$0.00</td>\n",
       "      <td>P I F</td>\n",
       "      <td>$0.00</td>\n",
       "      <td>$40,000.00</td>\n",
       "      <td>$32,000.00</td>\n",
       "    </tr>\n",
       "    <tr>\n",
       "      <th>2</th>\n",
       "      <td>1000034009</td>\n",
       "      <td>WHITLOCK DDS, TODD M.</td>\n",
       "      <td>BLOOMINGTON</td>\n",
       "      <td>IN</td>\n",
       "      <td>47401</td>\n",
       "      <td>GRANT COUNTY STATE BANK</td>\n",
       "      <td>IN</td>\n",
       "      <td>621210</td>\n",
       "      <td>28-Feb-97</td>\n",
       "      <td>1997</td>\n",
       "      <td>...</td>\n",
       "      <td>N</td>\n",
       "      <td>N</td>\n",
       "      <td>NaN</td>\n",
       "      <td>31-Dec-97</td>\n",
       "      <td>$287,000.00</td>\n",
       "      <td>$0.00</td>\n",
       "      <td>P I F</td>\n",
       "      <td>$0.00</td>\n",
       "      <td>$287,000.00</td>\n",
       "      <td>$215,250.00</td>\n",
       "    </tr>\n",
       "    <tr>\n",
       "      <th>3</th>\n",
       "      <td>1000044001</td>\n",
       "      <td>BIG BUCKS PAWN &amp; JEWELRY, LLC</td>\n",
       "      <td>BROKEN ARROW</td>\n",
       "      <td>OK</td>\n",
       "      <td>74012</td>\n",
       "      <td>1ST NATL BK &amp; TR CO OF BROKEN</td>\n",
       "      <td>OK</td>\n",
       "      <td>0</td>\n",
       "      <td>28-Feb-97</td>\n",
       "      <td>1997</td>\n",
       "      <td>...</td>\n",
       "      <td>N</td>\n",
       "      <td>Y</td>\n",
       "      <td>NaN</td>\n",
       "      <td>30-Jun-97</td>\n",
       "      <td>$35,000.00</td>\n",
       "      <td>$0.00</td>\n",
       "      <td>P I F</td>\n",
       "      <td>$0.00</td>\n",
       "      <td>$35,000.00</td>\n",
       "      <td>$28,000.00</td>\n",
       "    </tr>\n",
       "    <tr>\n",
       "      <th>4</th>\n",
       "      <td>1000054004</td>\n",
       "      <td>ANASTASIA CONFECTIONS, INC.</td>\n",
       "      <td>ORLANDO</td>\n",
       "      <td>FL</td>\n",
       "      <td>32801</td>\n",
       "      <td>FLORIDA BUS. DEVEL CORP</td>\n",
       "      <td>FL</td>\n",
       "      <td>0</td>\n",
       "      <td>28-Feb-97</td>\n",
       "      <td>1997</td>\n",
       "      <td>...</td>\n",
       "      <td>N</td>\n",
       "      <td>N</td>\n",
       "      <td>NaN</td>\n",
       "      <td>14-May-97</td>\n",
       "      <td>$229,000.00</td>\n",
       "      <td>$0.00</td>\n",
       "      <td>P I F</td>\n",
       "      <td>$0.00</td>\n",
       "      <td>$229,000.00</td>\n",
       "      <td>$229,000.00</td>\n",
       "    </tr>\n",
       "  </tbody>\n",
       "</table>\n",
       "<p>5 rows × 27 columns</p>\n",
       "</div>"
      ],
      "text/plain": [
       "   LoanNr_ChkDgt                           Name          City State    Zip  \\\n",
       "0     1000014003                 ABC HOBBYCRAFT    EVANSVILLE    IN  47711   \n",
       "1     1000024006    LANDMARK BAR & GRILLE (THE)     NEW PARIS    IN  46526   \n",
       "2     1000034009          WHITLOCK DDS, TODD M.   BLOOMINGTON    IN  47401   \n",
       "3     1000044001  BIG BUCKS PAWN & JEWELRY, LLC  BROKEN ARROW    OK  74012   \n",
       "4     1000054004    ANASTASIA CONFECTIONS, INC.       ORLANDO    FL  32801   \n",
       "\n",
       "                            Bank BankState   NAICS ApprovalDate ApprovalFY  \\\n",
       "0               FIFTH THIRD BANK        OH  451120    28-Feb-97       1997   \n",
       "1                1ST SOURCE BANK        IN  722410    28-Feb-97       1997   \n",
       "2        GRANT COUNTY STATE BANK        IN  621210    28-Feb-97       1997   \n",
       "3  1ST NATL BK & TR CO OF BROKEN        OK       0    28-Feb-97       1997   \n",
       "4        FLORIDA BUS. DEVEL CORP        FL       0    28-Feb-97       1997   \n",
       "\n",
       "   ...  RevLineCr  LowDoc  ChgOffDate  DisbursementDate  DisbursementGross  \\\n",
       "0  ...          N       Y         NaN         28-Feb-99        $60,000.00    \n",
       "1  ...          N       Y         NaN         31-May-97        $40,000.00    \n",
       "2  ...          N       N         NaN         31-Dec-97       $287,000.00    \n",
       "3  ...          N       Y         NaN         30-Jun-97        $35,000.00    \n",
       "4  ...          N       N         NaN         14-May-97       $229,000.00    \n",
       "\n",
       "   BalanceGross  MIS_Status ChgOffPrinGr        GrAppv      SBA_Appv  \n",
       "0        $0.00        P I F       $0.00    $60,000.00    $48,000.00   \n",
       "1        $0.00        P I F       $0.00    $40,000.00    $32,000.00   \n",
       "2        $0.00        P I F       $0.00   $287,000.00   $215,250.00   \n",
       "3        $0.00        P I F       $0.00    $35,000.00    $28,000.00   \n",
       "4        $0.00        P I F       $0.00   $229,000.00   $229,000.00   \n",
       "\n",
       "[5 rows x 27 columns]"
      ]
     },
     "execution_count": 3,
     "metadata": {},
     "output_type": "execute_result"
    }
   ],
   "source": [
    "dataset.head()"
   ]
  },
  {
   "cell_type": "code",
   "execution_count": 4,
   "id": "66534247",
   "metadata": {
    "scrolled": false
   },
   "outputs": [
    {
     "name": "stdout",
     "output_type": "stream",
     "text": [
      "       LoanNr_ChkDgt            Zip          NAICS           Term  \\\n",
      "count   8.991640e+05  899164.000000  899164.000000  899164.000000   \n",
      "mean    4.772612e+09   53804.391241  398660.950146     110.773078   \n",
      "std     2.538175e+09   31184.159152  263318.312759      78.857305   \n",
      "min     1.000014e+09       0.000000       0.000000       0.000000   \n",
      "25%     2.589758e+09   27587.000000  235210.000000      60.000000   \n",
      "50%     4.361439e+09   55410.000000  445310.000000      84.000000   \n",
      "75%     6.904627e+09   83704.000000  561730.000000     120.000000   \n",
      "max     9.996003e+09   99999.000000  928120.000000     569.000000   \n",
      "\n",
      "               NoEmp       NewExist      CreateJob    RetainedJob  \\\n",
      "count  899164.000000  899028.000000  899164.000000  899164.000000   \n",
      "mean       11.411353       1.280404       8.430376      10.797257   \n",
      "std        74.108196       0.451750     236.688165     237.120600   \n",
      "min         0.000000       0.000000       0.000000       0.000000   \n",
      "25%         2.000000       1.000000       0.000000       0.000000   \n",
      "50%         4.000000       1.000000       0.000000       1.000000   \n",
      "75%        10.000000       2.000000       1.000000       4.000000   \n",
      "max      9999.000000       2.000000    8800.000000    9500.000000   \n",
      "\n",
      "       FranchiseCode     UrbanRural  \n",
      "count  899164.000000  899164.000000  \n",
      "mean     2753.725933       0.757748  \n",
      "std     12758.019136       0.646436  \n",
      "min         0.000000       0.000000  \n",
      "25%         1.000000       0.000000  \n",
      "50%         1.000000       1.000000  \n",
      "75%         1.000000       1.000000  \n",
      "max     99999.000000       2.000000  \n"
     ]
    }
   ],
   "source": [
    "print(dataset.describe())"
   ]
  },
  {
   "cell_type": "code",
   "execution_count": 5,
   "id": "3e5a9ed3",
   "metadata": {},
   "outputs": [
    {
     "data": {
      "text/plain": [
       "LoanNr_ChkDgt             0\n",
       "Name                     14\n",
       "City                     30\n",
       "State                    14\n",
       "Zip                       0\n",
       "Bank                   1559\n",
       "BankState              1566\n",
       "NAICS                     0\n",
       "ApprovalDate              0\n",
       "ApprovalFY                0\n",
       "Term                      0\n",
       "NoEmp                     0\n",
       "NewExist                136\n",
       "CreateJob                 0\n",
       "RetainedJob               0\n",
       "FranchiseCode             0\n",
       "UrbanRural                0\n",
       "RevLineCr              4528\n",
       "LowDoc                 2582\n",
       "ChgOffDate           736465\n",
       "DisbursementDate       2368\n",
       "DisbursementGross         0\n",
       "BalanceGross              0\n",
       "MIS_Status             1997\n",
       "ChgOffPrinGr              0\n",
       "GrAppv                    0\n",
       "SBA_Appv                  0\n",
       "dtype: int64"
      ]
     },
     "execution_count": 5,
     "metadata": {},
     "output_type": "execute_result"
    }
   ],
   "source": [
    "#mirem els valors NAN\n",
    "dataset.isnull().sum()"
   ]
  },
  {
   "cell_type": "code",
   "execution_count": 6,
   "id": "b6077985",
   "metadata": {},
   "outputs": [],
   "source": [
    "# les variablews identificatives les eliminem\n",
    "dataset = dataset.drop(axis =1, columns = ['LoanNr_ChkDgt', 'Name', 'ChgOffDate', 'Zip'])"
   ]
  },
  {
   "cell_type": "code",
   "execution_count": 7,
   "id": "e043c405",
   "metadata": {},
   "outputs": [],
   "source": [
    "#Al tener mucha cantidad de datos los nans de City y State son insignificantes y los borramos\n",
    "dataset = dataset.dropna(axis =0, subset=['City','State'])"
   ]
  },
  {
   "cell_type": "code",
   "execution_count": 8,
   "id": "2d9f6301",
   "metadata": {},
   "outputs": [],
   "source": [
    "# Ara tractem la variable objectiu\n",
    "# prime eliminem els nans ja que no tenen sentit\n",
    "dataset = dataset.dropna(axis =0, subset=['MIS_Status'])\n",
    "\n",
    "# passem de tipus object a int (1 = si apriovat, 0 = no aprovat)\n",
    "loan_status = {'P I F': 1,'CHGOFF': 0}\n",
    "dataset.MIS_Status = [loan_status[item] for item in dataset.MIS_Status] "
   ]
  },
  {
   "cell_type": "code",
   "execution_count": 9,
   "id": "e8e4fc37",
   "metadata": {},
   "outputs": [
    {
     "name": "stdout",
     "output_type": "stream",
     "text": [
      "dict_keys([1, 0])\n"
     ]
    },
    {
     "data": {
      "text/plain": [
       "dict_values([739568, 157556])"
      ]
     },
     "execution_count": 9,
     "metadata": {},
     "output_type": "execute_result"
    }
   ],
   "source": [
    "print(Counter(dataset.MIS_Status).keys())\n",
    "Counter(dataset.MIS_Status).values()"
   ]
  },
  {
   "cell_type": "code",
   "execution_count": 10,
   "id": "1b14e874",
   "metadata": {},
   "outputs": [],
   "source": [
    "# HI ha columnes on son de tipus float pero les tracta com a objects, fem el canvi\n",
    "columnes_float = [17,18,20,21,22]\n",
    "for i in columnes_float:\n",
    "    dataset[dataset.columns[i]] = dataset[dataset.columns[i]].replace('[\\$,]', '', regex=True).astype(float)"
   ]
  },
  {
   "cell_type": "code",
   "execution_count": 11,
   "id": "2901ad48",
   "metadata": {},
   "outputs": [
    {
     "data": {
      "text/plain": [
       "dict_keys([2.0, 1.0, 0.0, nan, nan, nan, nan, nan, nan, nan, nan, nan, nan, nan, nan, nan, nan, nan, nan, nan, nan, nan, nan, nan, nan, nan, nan, nan, nan, nan, nan, nan, nan, nan, nan, nan, nan, nan, nan, nan, nan, nan, nan, nan, nan, nan, nan, nan, nan, nan, nan, nan, nan, nan, nan, nan, nan, nan, nan, nan, nan, nan, nan, nan, nan, nan, nan, nan, nan, nan, nan, nan, nan, nan, nan, nan, nan, nan, nan, nan, nan, nan, nan, nan, nan, nan, nan, nan, nan, nan, nan, nan, nan, nan, nan, nan, nan, nan, nan, nan, nan, nan, nan, nan, nan, nan, nan, nan, nan, nan, nan, nan, nan, nan, nan, nan, nan, nan, nan, nan, nan, nan, nan, nan, nan, nan, nan, nan, nan, nan, nan, nan, nan, nan, nan, nan, nan])"
      ]
     },
     "execution_count": 11,
     "metadata": {},
     "output_type": "execute_result"
    }
   ],
   "source": [
    "#La seguent es NewExist\n",
    "#Mirem els possibles valors\n",
    "Counter(dataset.NewExist).keys()\n",
    "#Veiem valor 0 que no te sentit"
   ]
  },
  {
   "cell_type": "code",
   "execution_count": 12,
   "id": "bb06556b",
   "metadata": {},
   "outputs": [],
   "source": [
    "# per a tractar el valor 0 suposem que si es retenen llocs de treball es que existeix una empresa\n",
    "cond = dataset[(dataset['NewExist'] == 0) & (dataset['RetainedJob'] >=1)].index\n",
    "for i in cond:\n",
    "    dataset.loc[i,['NewExist']] = 1\n",
    "\n",
    "# igual pero amb els nulls\n",
    "cond_2 = dataset[(dataset.NewExist.isnull()) & (dataset['RetainedJob'] >=1)].index\n",
    "for i in cond_2:\n",
    "    dataset.loc[i,['NewExist']] = 1"
   ]
  },
  {
   "cell_type": "code",
   "execution_count": 13,
   "id": "0211d46c",
   "metadata": {},
   "outputs": [
    {
     "name": "stdout",
     "output_type": "stream",
     "text": [
      "dict_keys([2.0, 1.0, 0.0, nan, nan, nan, nan, nan, nan, nan, nan, nan, nan, nan, nan, nan, nan, nan, nan, nan, nan, nan])\n",
      "dict_values([252544, 643687, 874, 1, 1, 1, 1, 1, 1, 1, 1, 1, 1, 1, 1, 1, 1, 1, 1, 1, 1, 1])\n"
     ]
    }
   ],
   "source": [
    "print(Counter(dataset.NewExist).keys()) # unique values\n",
    "print(Counter(dataset.NewExist).values()) # count values\n",
    "\n",
    "# Arribats aqui eliminem directament els nans i 0, primner passem de 0 a nans\n",
    "cond_3 = dataset[(dataset['NewExist'] == 0)].index\n",
    "for i in cond_3:\n",
    "    dataset.loc[i,['NewExist']] = np.nan #11 corresponds to NewExist column\n",
    "    \n",
    "dataset = dataset.dropna(axis =0, subset=['NewExist'])"
   ]
  },
  {
   "cell_type": "code",
   "execution_count": 14,
   "id": "8a2b6229",
   "metadata": {},
   "outputs": [],
   "source": [
    "# Tambe trec el bank i el bankstate ja que son valors unics per lo tant no aporten informacio a la desicio\n",
    "# les columnes DisbursementDate, DisbursementGross, BalanceGross,ChgOffPrinGr donen info de despres del prestec per tant,\n",
    "# no son importants\n",
    "dataset = dataset.drop(axis =1, columns = ['Bank', 'BankState', 'DisbursementDate', 'DisbursementGross', \n",
    "                                         'BalanceGross','ChgOffPrinGr'])"
   ]
  },
  {
   "cell_type": "code",
   "execution_count": 15,
   "id": "27570f2b",
   "metadata": {},
   "outputs": [
    {
     "data": {
      "text/plain": [
       "City                0\n",
       "State               0\n",
       "NAICS               0\n",
       "ApprovalDate        0\n",
       "ApprovalFY          0\n",
       "Term                0\n",
       "NoEmp               0\n",
       "NewExist            0\n",
       "CreateJob           0\n",
       "RetainedJob         0\n",
       "FranchiseCode       0\n",
       "UrbanRural          0\n",
       "RevLineCr        4517\n",
       "LowDoc           2578\n",
       "MIS_Status          0\n",
       "GrAppv              0\n",
       "SBA_Appv            0\n",
       "dtype: int64"
      ]
     },
     "execution_count": 15,
     "metadata": {},
     "output_type": "execute_result"
    }
   ],
   "source": [
    "dataset.isnull().sum()"
   ]
  },
  {
   "cell_type": "code",
   "execution_count": 16,
   "id": "3a44a3fa",
   "metadata": {},
   "outputs": [],
   "source": [
    "# ara passem les dates a date type\n",
    "dataset['ApprovalDate'] = dataset['ApprovalDate'].astype(str)\n",
    "dataset['ApprovalDate'] = pd.to_datetime(dataset['ApprovalDate'])"
   ]
  },
  {
   "cell_type": "code",
   "execution_count": 17,
   "id": "e64b911b",
   "metadata": {},
   "outputs": [
    {
     "data": {
      "text/plain": [
       "(5997, 17)"
      ]
     },
     "execution_count": 17,
     "metadata": {},
     "output_type": "execute_result"
    }
   ],
   "source": [
    "#per a tracta els nans de LowDoc no els eliminarem ja que son un atribuit important per a la prediccio\n",
    "cond_4 = dataset[(dataset['LowDoc'] != \"Y\") & (dataset['LowDoc'] != \"N\")]\n",
    "cond_4.shape"
   ]
  },
  {
   "cell_type": "code",
   "execution_count": 18,
   "id": "318f218a",
   "metadata": {},
   "outputs": [
    {
     "name": "stdout",
     "output_type": "stream",
     "text": [
      "GrAppv: \n",
      " count     110044.000000\n",
      "mean       68661.249228\n",
      "std        37671.560574\n",
      "min         4000.000000\n",
      "25%        40000.000000\n",
      "50%        60000.000000\n",
      "75%       100000.000000\n",
      "max      1000000.000000\n",
      "Name: GrAppv, dtype: float64\n",
      "\n",
      "Term: \n",
      " count    110044.000000\n",
      "mean         87.698312\n",
      "std          45.809355\n",
      "min           0.000000\n",
      "25%          60.000000\n",
      "50%          84.000000\n",
      "75%          93.000000\n",
      "max         511.000000\n",
      "Name: Term, dtype: float64\n"
     ]
    }
   ],
   "source": [
    "# mirem si existeix algun patro\n",
    "low_doc = dataset[dataset['LowDoc'] == \"Y\"]\n",
    "print(\"GrAppv: \\n\", low_doc['GrAppv'].describe())\n",
    "print(\"\\nTerm: \\n\", low_doc['Term'].describe())"
   ]
  },
  {
   "cell_type": "code",
   "execution_count": 19,
   "id": "d1ceb23e",
   "metadata": {},
   "outputs": [
    {
     "name": "stdout",
     "output_type": "stream",
     "text": [
      "dict_keys([1, 0])\n",
      "dict_values([100151, 9893])\n"
     ]
    }
   ],
   "source": [
    "print(Counter(low_doc.MIS_Status).keys())\n",
    "print(Counter(low_doc.MIS_Status).values())"
   ]
  },
  {
   "cell_type": "code",
   "execution_count": 20,
   "id": "f0798800",
   "metadata": {},
   "outputs": [
    {
     "data": {
      "text/plain": [
       "(1565, 17)"
      ]
     },
     "execution_count": 20,
     "metadata": {},
     "output_type": "execute_result"
    }
   ],
   "source": [
    "cond_5 = cond_4[(cond_4['GrAppv'] <= 100000) & (cond_4['Term'] <= 93) & (cond_4['MIS_Status'] == 1)]\n",
    "cond_5.shape\n",
    "#hi ha 1565 columnes que es poden posar a 1"
   ]
  },
  {
   "cell_type": "code",
   "execution_count": 21,
   "id": "a377eda8",
   "metadata": {},
   "outputs": [],
   "source": [
    "for i in cond_5.index:\n",
    "    dataset.loc[i,['LowDoc']] = 'Y'"
   ]
  },
  {
   "cell_type": "code",
   "execution_count": 22,
   "id": "7a184a89",
   "metadata": {},
   "outputs": [
    {
     "name": "stdout",
     "output_type": "stream",
     "text": [
      "GrAppv: \n",
      " count    7.801900e+05\n",
      "mean     2.104921e+05\n",
      "std      2.983505e+05\n",
      "min      1.000000e+03\n",
      "25%      3.500000e+04\n",
      "50%      1.000000e+05\n",
      "75%      2.550000e+05\n",
      "max      5.472000e+06\n",
      "Name: GrAppv, dtype: float64\n",
      "\n",
      "Term: \n",
      " count    780190.000000\n",
      "mean        114.058374\n",
      "std          81.945811\n",
      "min           0.000000\n",
      "25%          60.000000\n",
      "50%          84.000000\n",
      "75%         132.000000\n",
      "max         569.000000\n",
      "Name: Term, dtype: float64\n",
      "dict_keys([1, 0])\n",
      "dict_values([634164, 146026])\n"
     ]
    }
   ],
   "source": [
    "# repetim per al valors false\n",
    "no_low_doc = dataset[dataset['LowDoc'] == \"N\"]\n",
    "print(\"GrAppv: \\n\", no_low_doc['GrAppv'].describe())\n",
    "print(\"\\nTerm: \\n\", no_low_doc['Term'].describe())\n",
    "print(Counter(no_low_doc.MIS_Status).keys())\n",
    "print(Counter(no_low_doc.MIS_Status).values())"
   ]
  },
  {
   "cell_type": "code",
   "execution_count": 23,
   "id": "ed6397d8",
   "metadata": {},
   "outputs": [
    {
     "name": "stdout",
     "output_type": "stream",
     "text": [
      "(198, 17)\n"
     ]
    }
   ],
   "source": [
    "cond_6 = cond_4[(cond_4['GrAppv'] > 100000) & (cond_4['GrAppv'] <= 2.550000e+05) & (cond_4['Term'] > 93) & (cond_4['Term'] <= 132) & (cond_4['MIS_Status'] == 1)]\n",
    "print(cond_6.shape)\n",
    "\n",
    "for i in cond_6.index:\n",
    "    dataset.loc[i,['LowDoc']] = 'N'"
   ]
  },
  {
   "cell_type": "code",
   "execution_count": 24,
   "id": "eae7f1b8",
   "metadata": {},
   "outputs": [],
   "source": [
    "cond_8 = dataset[(dataset['LowDoc'] != \"Y\") & (dataset['LowDoc'] != \"N\")]\n",
    "cond_8.shape\n",
    "# Aquestes si que les treiem\n",
    "for i in cond_8.index:\n",
    "    dataset.loc[i,'LowDoc'] = np.nan\n",
    "\n",
    "datase4t = dataset.dropna(axis =0, subset=['LowDoc'])"
   ]
  },
  {
   "cell_type": "code",
   "execution_count": 25,
   "id": "83cefb17",
   "metadata": {},
   "outputs": [],
   "source": [
    "# En el cas de RevLineCr no hi ha ningun patro per a tractar els nans aixi q leliminem\n",
    "# tambe eliminem les dates de aprovament i la cantitat del gobern ja que es molt similar a la del SBA\n",
    "dataset = dataset.drop(axis =1, columns = ['ApprovalDate', 'ApprovalFY','RevLineCr','GrAppv'])"
   ]
  },
  {
   "cell_type": "code",
   "execution_count": 26,
   "id": "9d221e56",
   "metadata": {},
   "outputs": [],
   "source": [
    "# com del NAICS nomes son importants els dos primers nombres eliminem la resta\n",
    "def dos_primers(d):\n",
    "    if d <= 0:\n",
    "        return 0\n",
    "    return (d // 10 ** (int(math.log(d, 10)) - 1))\n",
    "\n",
    "dataset['NAICS'] = dataset.NAICS.apply(dos_primers)"
   ]
  },
  {
   "cell_type": "code",
   "execution_count": 27,
   "id": "ab6fae71",
   "metadata": {},
   "outputs": [],
   "source": [
    "def point_def(rate):\n",
    "    if rate <= 12:\n",
    "        return 5\n",
    "    elif  12 < rate <= 17: \n",
    "        return 4\n",
    "    elif 17 < rate <= 21:\n",
    "        return 3\n",
    "    elif 21 < rate <= 25:\n",
    "        return 2\n",
    "    elif rate > 25:\n",
    "        return 1\n",
    "    \n",
    "def apply_score(i):\n",
    "    sector_default = {21 : 8, 11 : 9, 55 : 10, 62:10, 22:14, 92:15,54:19, 42:19,31:19,32:16,33:14,81:20,71:21,72:22,44:22,45:23,23:23,56:24,61:24,51:25,48:27,49:23,52:28,53:29}\n",
    "    if i > 0:\n",
    "        defrate = None\n",
    "        if i in sector_default:\n",
    "            defrate = sector_default[i]\n",
    "            return point_def(defrate)\n",
    "    return 0"
   ]
  },
  {
   "cell_type": "code",
   "execution_count": 28,
   "id": "e18871b3",
   "metadata": {},
   "outputs": [],
   "source": [
    "dataset['Sector_Points'] = dataset.NAICS.apply(apply_score)"
   ]
  },
  {
   "cell_type": "code",
   "execution_count": 29,
   "id": "32d5c60c",
   "metadata": {},
   "outputs": [],
   "source": [
    "def apply_score_state(i):\n",
    "    state_default = {'MT':8, 'ND': 8, 'WY':8, 'SD':8, 'VT':8, 'ME':10,'NH':10, 'NM':10, 'AK':10, 'WA':13,'AD':13, 'MN':13, \n",
    "                     'WI':13, 'IA':13,'NE':13, 'KS':13, 'MA':13,'CT':13,'RI':13,'PA':13, 'NV':23, 'IL':23, 'MI':23, 'KY':23,\n",
    "                     'GA':23, 'FL':28}\n",
    "    temp_defrate = None\n",
    "    average_def_rate = 18\n",
    "    if i in state_default:\n",
    "        temp_defrate = state_default[i]\n",
    "        return point_def(temp_defrate)\n",
    "    return point_def(average_def_rate)"
   ]
  },
  {
   "cell_type": "code",
   "execution_count": 30,
   "id": "09733291",
   "metadata": {},
   "outputs": [],
   "source": [
    "dataset['State_Points'] = dataset.State.apply(apply_score_state)"
   ]
  },
  {
   "cell_type": "code",
   "execution_count": 31,
   "id": "fd1af56a",
   "metadata": {},
   "outputs": [],
   "source": [
    "dataset = dataset.drop(axis = 1, columns = ['City', 'State', 'NAICS'])"
   ]
  },
  {
   "cell_type": "code",
   "execution_count": 32,
   "id": "22907332",
   "metadata": {},
   "outputs": [],
   "source": [
    "def yes_no(i):\n",
    "    if i > 0:\n",
    "        return 1\n",
    "    return 0\n",
    "\n",
    "dataset.Term = dataset.Term//12\n",
    "dataset['IscreateJob'] = dataset.CreateJob.apply(yes_no)\n",
    "dataset['IsRetained'] = dataset.RetainedJob.apply(yes_no)\n",
    "dataset['IsFranchise'] = dataset.FranchiseCode.apply(yes_no)\n",
    "\n",
    "def lowdoc(i):\n",
    "    if i == \"Y\":\n",
    "        return 1\n",
    "    return 0\n",
    "dataset.LowDoc = dataset.LowDoc.apply(lowdoc)\n",
    "dataset = dataset.drop(axis =1, columns = ['FranchiseCode', 'CreateJob', 'RetainedJob'])"
   ]
  },
  {
   "cell_type": "code",
   "execution_count": 33,
   "id": "1becd25b",
   "metadata": {},
   "outputs": [
    {
     "data": {
      "text/plain": [
       "Term             0\n",
       "NoEmp            0\n",
       "NewExist         0\n",
       "UrbanRural       0\n",
       "LowDoc           0\n",
       "MIS_Status       0\n",
       "SBA_Appv         0\n",
       "Sector_Points    0\n",
       "State_Points     0\n",
       "IscreateJob      0\n",
       "IsRetained       0\n",
       "IsFranchise      0\n",
       "dtype: int64"
      ]
     },
     "execution_count": 33,
     "metadata": {},
     "output_type": "execute_result"
    }
   ],
   "source": [
    "dataset.isnull().sum()"
   ]
  },
  {
   "cell_type": "code",
   "execution_count": 34,
   "id": "0fce0f8f",
   "metadata": {},
   "outputs": [
    {
     "data": {
      "text/html": [
       "<div>\n",
       "<style scoped>\n",
       "    .dataframe tbody tr th:only-of-type {\n",
       "        vertical-align: middle;\n",
       "    }\n",
       "\n",
       "    .dataframe tbody tr th {\n",
       "        vertical-align: top;\n",
       "    }\n",
       "\n",
       "    .dataframe thead th {\n",
       "        text-align: right;\n",
       "    }\n",
       "</style>\n",
       "<table border=\"1\" class=\"dataframe\">\n",
       "  <thead>\n",
       "    <tr style=\"text-align: right;\">\n",
       "      <th></th>\n",
       "      <th>Term</th>\n",
       "      <th>NoEmp</th>\n",
       "      <th>NewExist</th>\n",
       "      <th>UrbanRural</th>\n",
       "      <th>LowDoc</th>\n",
       "      <th>MIS_Status</th>\n",
       "      <th>SBA_Appv</th>\n",
       "      <th>Sector_Points</th>\n",
       "      <th>State_Points</th>\n",
       "      <th>IscreateJob</th>\n",
       "      <th>IsRetained</th>\n",
       "      <th>IsFranchise</th>\n",
       "    </tr>\n",
       "  </thead>\n",
       "  <tbody>\n",
       "    <tr>\n",
       "      <th>count</th>\n",
       "      <td>896231.000000</td>\n",
       "      <td>896231.000000</td>\n",
       "      <td>896231.000000</td>\n",
       "      <td>896231.000000</td>\n",
       "      <td>896231.000000</td>\n",
       "      <td>896231.000000</td>\n",
       "      <td>8.962310e+05</td>\n",
       "      <td>896231.000000</td>\n",
       "      <td>896231.000000</td>\n",
       "      <td>896231.000000</td>\n",
       "      <td>896231.000000</td>\n",
       "      <td>896231.000000</td>\n",
       "    </tr>\n",
       "    <tr>\n",
       "      <th>mean</th>\n",
       "      <td>9.104249</td>\n",
       "      <td>11.402338</td>\n",
       "      <td>1.281784</td>\n",
       "      <td>0.757413</td>\n",
       "      <td>0.124532</td>\n",
       "      <td>0.824270</td>\n",
       "      <td>1.496817e+05</td>\n",
       "      <td>2.091423</td>\n",
       "      <td>3.128067</td>\n",
       "      <td>0.300669</td>\n",
       "      <td>0.510127</td>\n",
       "      <td>0.767973</td>\n",
       "    </tr>\n",
       "    <tr>\n",
       "      <th>std</th>\n",
       "      <td>6.636455</td>\n",
       "      <td>73.628689</td>\n",
       "      <td>0.449869</td>\n",
       "      <td>0.646445</td>\n",
       "      <td>0.330187</td>\n",
       "      <td>0.380591</td>\n",
       "      <td>2.284728e+05</td>\n",
       "      <td>1.448644</td>\n",
       "      <td>0.837907</td>\n",
       "      <td>0.458549</td>\n",
       "      <td>0.499898</td>\n",
       "      <td>0.422127</td>\n",
       "    </tr>\n",
       "    <tr>\n",
       "      <th>min</th>\n",
       "      <td>0.000000</td>\n",
       "      <td>0.000000</td>\n",
       "      <td>1.000000</td>\n",
       "      <td>0.000000</td>\n",
       "      <td>0.000000</td>\n",
       "      <td>0.000000</td>\n",
       "      <td>5.000000e+02</td>\n",
       "      <td>0.000000</td>\n",
       "      <td>1.000000</td>\n",
       "      <td>0.000000</td>\n",
       "      <td>0.000000</td>\n",
       "      <td>0.000000</td>\n",
       "    </tr>\n",
       "    <tr>\n",
       "      <th>25%</th>\n",
       "      <td>5.000000</td>\n",
       "      <td>2.000000</td>\n",
       "      <td>1.000000</td>\n",
       "      <td>0.000000</td>\n",
       "      <td>0.000000</td>\n",
       "      <td>1.000000</td>\n",
       "      <td>2.125000e+04</td>\n",
       "      <td>1.000000</td>\n",
       "      <td>3.000000</td>\n",
       "      <td>0.000000</td>\n",
       "      <td>0.000000</td>\n",
       "      <td>1.000000</td>\n",
       "    </tr>\n",
       "    <tr>\n",
       "      <th>50%</th>\n",
       "      <td>7.000000</td>\n",
       "      <td>4.000000</td>\n",
       "      <td>1.000000</td>\n",
       "      <td>1.000000</td>\n",
       "      <td>0.000000</td>\n",
       "      <td>1.000000</td>\n",
       "      <td>6.200000e+04</td>\n",
       "      <td>2.000000</td>\n",
       "      <td>3.000000</td>\n",
       "      <td>0.000000</td>\n",
       "      <td>1.000000</td>\n",
       "      <td>1.000000</td>\n",
       "    </tr>\n",
       "    <tr>\n",
       "      <th>75%</th>\n",
       "      <td>10.000000</td>\n",
       "      <td>10.000000</td>\n",
       "      <td>2.000000</td>\n",
       "      <td>1.000000</td>\n",
       "      <td>0.000000</td>\n",
       "      <td>1.000000</td>\n",
       "      <td>1.750000e+05</td>\n",
       "      <td>3.000000</td>\n",
       "      <td>4.000000</td>\n",
       "      <td>1.000000</td>\n",
       "      <td>1.000000</td>\n",
       "      <td>1.000000</td>\n",
       "    </tr>\n",
       "    <tr>\n",
       "      <th>max</th>\n",
       "      <td>47.000000</td>\n",
       "      <td>9999.000000</td>\n",
       "      <td>2.000000</td>\n",
       "      <td>2.000000</td>\n",
       "      <td>1.000000</td>\n",
       "      <td>1.000000</td>\n",
       "      <td>5.472000e+06</td>\n",
       "      <td>5.000000</td>\n",
       "      <td>5.000000</td>\n",
       "      <td>1.000000</td>\n",
       "      <td>1.000000</td>\n",
       "      <td>1.000000</td>\n",
       "    </tr>\n",
       "  </tbody>\n",
       "</table>\n",
       "</div>"
      ],
      "text/plain": [
       "                Term          NoEmp       NewExist     UrbanRural  \\\n",
       "count  896231.000000  896231.000000  896231.000000  896231.000000   \n",
       "mean        9.104249      11.402338       1.281784       0.757413   \n",
       "std         6.636455      73.628689       0.449869       0.646445   \n",
       "min         0.000000       0.000000       1.000000       0.000000   \n",
       "25%         5.000000       2.000000       1.000000       0.000000   \n",
       "50%         7.000000       4.000000       1.000000       1.000000   \n",
       "75%        10.000000      10.000000       2.000000       1.000000   \n",
       "max        47.000000    9999.000000       2.000000       2.000000   \n",
       "\n",
       "              LowDoc     MIS_Status      SBA_Appv  Sector_Points  \\\n",
       "count  896231.000000  896231.000000  8.962310e+05  896231.000000   \n",
       "mean        0.124532       0.824270  1.496817e+05       2.091423   \n",
       "std         0.330187       0.380591  2.284728e+05       1.448644   \n",
       "min         0.000000       0.000000  5.000000e+02       0.000000   \n",
       "25%         0.000000       1.000000  2.125000e+04       1.000000   \n",
       "50%         0.000000       1.000000  6.200000e+04       2.000000   \n",
       "75%         0.000000       1.000000  1.750000e+05       3.000000   \n",
       "max         1.000000       1.000000  5.472000e+06       5.000000   \n",
       "\n",
       "        State_Points    IscreateJob     IsRetained    IsFranchise  \n",
       "count  896231.000000  896231.000000  896231.000000  896231.000000  \n",
       "mean        3.128067       0.300669       0.510127       0.767973  \n",
       "std         0.837907       0.458549       0.499898       0.422127  \n",
       "min         1.000000       0.000000       0.000000       0.000000  \n",
       "25%         3.000000       0.000000       0.000000       1.000000  \n",
       "50%         3.000000       0.000000       1.000000       1.000000  \n",
       "75%         4.000000       1.000000       1.000000       1.000000  \n",
       "max         5.000000       1.000000       1.000000       1.000000  "
      ]
     },
     "execution_count": 34,
     "metadata": {},
     "output_type": "execute_result"
    }
   ],
   "source": [
    "dataset.describe()"
   ]
  },
  {
   "cell_type": "code",
   "execution_count": 42,
   "id": "bd9370ce",
   "metadata": {},
   "outputs": [
    {
     "data": {
      "image/png": "[encoded data removed]",
      "text/plain": [
       "<Figure size 1500x800 with 1 Axes>"
      ]
     },
     "metadata": {},
     "output_type": "display_data"
    }
   ],
   "source": [
    "plt.figure(figsize=(15, 8))\n",
    "sns.distplot(dataset['SBA_Appv'], color=\"g\", kde=False)\n",
    "plt.ylabel('Density')\n",
    "plt.title('Distribution of Approved ammount')\n",
    "plt.show()"
   ]
  },
  {
   "cell_type": "code",
   "execution_count": 45,
   "id": "72ebd2ac",
   "metadata": {},
   "outputs": [],
   "source": [
    "dataset['SBA_Appv'] = np.log(dataset['SBA_Appv']) "
   ]
  },
  {
   "cell_type": "code",
   "execution_count": 46,
   "id": "bef12df2",
   "metadata": {},
   "outputs": [
    {
     "data": {
      "image/png": "[encoded data removed]",
      "text/plain": [
       "<Figure size 1500x800 with 1 Axes>"
      ]
     },
     "metadata": {},
     "output_type": "display_data"
    }
   ],
   "source": [
    "plt.figure(figsize=(15, 8))\n",
    "sns.distplot(dataset['SBA_Appv'], color=\"g\", kde=False)\n",
    "plt.ylabel('Density')\n",
    "plt.title('Distribution of Approved ammount')\n",
    "plt.show()"
   ]
  },
  {
   "cell_type": "code",
   "execution_count": 47,
   "id": "d8c8d0e6",
   "metadata": {},
   "outputs": [
    {
     "data": {
      "text/plain": [
       "<Figure size 5800x100 with 0 Axes>"
      ]
     },
     "metadata": {},
     "output_type": "display_data"
    },
    {
     "data": {
      "image/png": "[encoded data removed]",
      "text/plain": [
       "<Figure size 5800x100 with 2 Axes>"
      ]
     },
     "metadata": {},
     "output_type": "display_data"
    }
   ],
   "source": [
    "loan_correlation = dataset.corr()['MIS_Status'].to_frame().T \n",
    "plt.figure(figsize=(58,1))\n",
    "plt.subplots(figsize=(58, 1))\n",
    "sns.heatmap(loan_correlation, linewidths=0.5, annot=True)\n",
    "plt.show()"
   ]
  },
  {
   "cell_type": "code",
   "execution_count": null,
   "id": "9f95c514",
   "metadata": {},
   "outputs": [],
   "source": []
  }
 ],
 "metadata": {
  "kernelspec": {
   "display_name": "Python 3 (ipykernel)",
   "language": "python",
   "name": "python3"
  },
  "language_info": {
   "codemirror_mode": {
    "name": "ipython",
    "version": 3
   },
   "file_extension": ".py",
   "mimetype": "text/x-python",
   "name": "python",
   "nbconvert_exporter": "python",
   "pygments_lexer": "ipython3",
   "version": "3.9.13"
  }
 },
 "nbformat": 4,
 "nbformat_minor": 5
}
